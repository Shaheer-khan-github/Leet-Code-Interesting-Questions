{
  "nbformat": 4,
  "nbformat_minor": 0,
  "metadata": {
    "colab": {
      "name": "Asymptotic Calculation.ipynb",
      "provenance": [],
      "authorship_tag": "ABX9TyOCf5q0eVjstLHLponDLr1V",
      "include_colab_link": true
    },
    "kernelspec": {
      "name": "python3",
      "display_name": "Python 3"
    },
    "language_info": {
      "name": "python"
    }
  },
  "cells": [
    {
      "cell_type": "markdown",
      "metadata": {
        "id": "view-in-github",
        "colab_type": "text"
      },
      "source": [
        "<a href=\"https://colab.research.google.com/github/Shaheer-khan-github/Leet-Code-Interesting-Questions/blob/main/Asymptotic_Calculations_for_understanding.ipynb\" target=\"_parent\"><img src=\"https://colab.research.google.com/assets/colab-badge.svg\" alt=\"Open In Colab\"/></a>"
      ]
    },
    {
      "cell_type": "code",
      "execution_count": null,
      "metadata": {
        "colab": {
          "base_uri": "https://localhost:8080/"
        },
        "id": "2fI_lQ_hWbQN",
        "outputId": "07d0b9e1-c724-4da7-e57a-74dc55318530"
      },
      "outputs": [
        {
          "output_type": "stream",
          "name": "stdout",
          "text": [
            "log n: 2.302585092994046\n",
            "Square root n: 3.1622776601683795\n",
            "10/2: 5.0\n",
            "n^2: 100\n",
            "2^10: 1024\n",
            "n!: 36288000\n"
          ]
        }
      ],
      "source": [
        "import math\n",
        "# n=10\n",
        "print('log n:',math.log(10))\n",
        "print('Square root n:',math.sqrt(10))\n",
        "print('10/2:',10/2)\n",
        "print('n^2:',10**2)\n",
        "print('2^10:',2**10)\n",
        "print('n!:',10* math.factorial(10))"
      ]
    },
    {
      "cell_type": "markdown",
      "source": [
        "## **Reference:**\n",
        "[Know Thy Complexities!](https://www.bigocheatsheet.com/)\n",
        "\n",
        "[Complexity and Big-O Notation](http://pages.cs.wisc.edu/~vernon/cs367/notes/3.COMPLEXITY.html)\n",
        "\n",
        "[Asymptotic Analysis: Big-O Notation and More](https://www.programiz.com/dsa/asymptotic-notations)\n",
        "\n",
        "[Asymptotic Notation](https://www.slideshare.net/ProtapMondal/asymptotic-notation-63320158)"
      ],
      "metadata": {
        "id": "l1yDBzL0kCL8"
      }
    },
    {
      "cell_type": "code",
      "source": [
        ""
      ],
      "metadata": {
        "id": "NX3YufmFYJRe"
      },
      "execution_count": null,
      "outputs": []
    }
  ]
}