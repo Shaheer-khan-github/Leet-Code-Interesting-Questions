{
  "nbformat": 4,
  "nbformat_minor": 0,
  "metadata": {
    "colab": {
      "name": "414. Third Maximum Number.ipynb",
      "provenance": [],
      "authorship_tag": "ABX9TyOpgdL8ATvg6r29KTkMfI/N",
      "include_colab_link": true
    },
    "kernelspec": {
      "name": "python3",
      "display_name": "Python 3"
    },
    "language_info": {
      "name": "python"
    }
  },
  "cells": [
    {
      "cell_type": "markdown",
      "metadata": {
        "id": "view-in-github",
        "colab_type": "text"
      },
      "source": [
        "<a href=\"https://colab.research.google.com/github/Shaheer-khan-github/Leet-Code-Interesting-Questions/blob/main/414_Third_Maximum_Number.ipynb\" target=\"_parent\"><img src=\"https://colab.research.google.com/assets/colab-badge.svg\" alt=\"Open In Colab\"/></a>"
      ]
    },
    {
      "cell_type": "code",
      "execution_count": 98,
      "metadata": {
        "id": "dV7Jnv9fAAq8"
      },
      "outputs": [],
      "source": [
        "class Solution(object):\n",
        "    def thirdMax(self, nums):\n",
        "        \"\"\"\n",
        "        :type nums: List[int]\n",
        "        :rtype: int\n",
        "        \"\"\"\n",
        "        if nums is None:\n",
        "            return\n",
        "        \n",
        "        n = list(set(nums))                     # print('set(nums)',set(nums))\n",
        "        print('n',n)\n",
        "\n",
        "        if len(n)<3:\n",
        "            return max(n)\n",
        "        else:\n",
        "            print(sorted(n))\n",
        "            return sorted(n)[-3]"
      ]
    },
    {
      "cell_type": "code",
      "source": [
        "nums = [2,2,3,1]\n",
        "Solution.thirdMax('',nums)"
      ],
      "metadata": {
        "colab": {
          "base_uri": "https://localhost:8080/"
        },
        "id": "LY5yVsCADLwE",
        "outputId": "2fdeb591-67d5-4fc9-fe03-69288fdc6903"
      },
      "execution_count": 99,
      "outputs": [
        {
          "output_type": "stream",
          "name": "stdout",
          "text": [
            "n [1, 2, 3]\n",
            "[1, 2, 3]\n"
          ]
        },
        {
          "output_type": "execute_result",
          "data": {
            "text/plain": [
              "1"
            ]
          },
          "metadata": {},
          "execution_count": 99
        }
      ]
    },
    {
      "cell_type": "code",
      "source": [
        "class Solution(object):\n",
        "    def thirdMax(self, nums):\n",
        "        \"\"\"\n",
        "        :type nums: List[int]\n",
        "        :rtype: int\n",
        "        \"\"\"\n",
        "        if nums is None:\n",
        "            return\n",
        "        \n",
        "        n = list(nums)\n",
        "        print('list(nums)',nums)\n",
        "        print('n',n)\n",
        "\n",
        "        if len(n)<3:\n",
        "            return max(n)\n",
        "        else:\n",
        "            print(sorted(n))\n",
        "            return sorted(n)[-3]"
      ],
      "metadata": {
        "id": "J73V3lG_KhH4"
      },
      "execution_count": 100,
      "outputs": []
    },
    {
      "cell_type": "code",
      "source": [
        "nums = [2,2,3,1]\n",
        "Solution.thirdMax('',nums)"
      ],
      "metadata": {
        "colab": {
          "base_uri": "https://localhost:8080/"
        },
        "id": "-HMi5LdzK6i0",
        "outputId": "874a1d2c-8803-4fe6-9913-17587b082cf5"
      },
      "execution_count": 108,
      "outputs": [
        {
          "output_type": "stream",
          "name": "stdout",
          "text": [
            "list(nums) [2, 2, 3, 1]\n",
            "n [2, 2, 3, 1]\n",
            "[1, 2, 2, 3]\n"
          ]
        },
        {
          "output_type": "execute_result",
          "data": {
            "text/plain": [
              "2"
            ]
          },
          "metadata": {},
          "execution_count": 108
        }
      ]
    },
    {
      "cell_type": "code",
      "source": [
        ""
      ],
      "metadata": {
        "id": "YATWo4S5PzVe"
      },
      "execution_count": 110,
      "outputs": []
    }
  ]
}