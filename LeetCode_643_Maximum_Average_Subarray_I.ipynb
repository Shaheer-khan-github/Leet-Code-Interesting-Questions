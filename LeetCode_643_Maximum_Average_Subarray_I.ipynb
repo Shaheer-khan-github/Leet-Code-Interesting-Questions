{
  "nbformat": 4,
  "nbformat_minor": 0,
  "metadata": {
    "colab": {
      "name": "LeetCode 643 - Maximum Average Subarray I.ipynb",
      "provenance": [],
      "authorship_tag": "ABX9TyO9Oaf9sMGBhLrJ1COzxr4c",
      "include_colab_link": true
    },
    "kernelspec": {
      "name": "python3",
      "display_name": "Python 3"
    },
    "language_info": {
      "name": "python"
    }
  },
  "cells": [
    {
      "cell_type": "markdown",
      "metadata": {
        "id": "view-in-github",
        "colab_type": "text"
      },
      "source": [
        "<a href=\"https://colab.research.google.com/github/Shaheer-khan-github/Leet-Code-Interesting-Questions/blob/main/LeetCode_643_Maximum_Average_Subarray_I.ipynb\" target=\"_parent\"><img src=\"https://colab.research.google.com/assets/colab-badge.svg\" alt=\"Open In Colab\"/></a>"
      ]
    },
    {
      "cell_type": "markdown",
      "source": [
        "### **Brute force Approach**"
      ],
      "metadata": {
        "id": "izWgqRej4keQ"
      }
    },
    {
      "cell_type": "code",
      "execution_count": 73,
      "metadata": {
        "id": "-zZqMSJO4Sc3"
      },
      "outputs": [],
      "source": [
        "nums = [1,12,-5,-6,50,3]\n",
        "k = 4\n",
        "max_average = 0.0"
      ]
    },
    {
      "cell_type": "code",
      "source": [
        "if len(nums) == 1:\n",
        "  print(nums)"
      ],
      "metadata": {
        "id": "G--uOS89BzNV"
      },
      "execution_count": 74,
      "outputs": []
    },
    {
      "cell_type": "code",
      "source": [
        "for i in range(len(nums) - k + 1):\n",
        "  _sum = 0.0                                          # find sum of next k elements\n",
        "  print('i:',i,' len(nums)-k+1:',len(nums)-k+1)\n",
        "\n",
        "  for j in range(i, i + k):\n",
        "    _sum += nums[j]\n",
        "    print('i:',i,'i+k:',i+k,\"Item of list\" ,nums[j] ,'Sum=',_sum)\n",
        "    average = _sum / k  # calculate the average of selected k elements\n",
        "    max_average = max(max_average, average)  # update max_average\n",
        "        \n",
        "  print('Average:',average)\n",
        "  print('Max Average:',max_average,'\\n\\n')\n",
        "              \n",
        "                "
      ],
      "metadata": {
        "colab": {
          "base_uri": "https://localhost:8080/"
        },
        "id": "CgheBw9H4ogB",
        "outputId": "41463341-4b0b-435a-c371-ac4447a2625b"
      },
      "execution_count": 77,
      "outputs": [
        {
          "output_type": "stream",
          "name": "stdout",
          "text": [
            "i: 0  len(nums)-k+1: 3\n",
            "i: 0 i+k: 4 Item of list 1 Sum= 1.0\n",
            "i: 0 i+k: 4 Item of list 12 Sum= 13.0\n",
            "i: 0 i+k: 4 Item of list -5 Sum= 8.0\n",
            "i: 0 i+k: 4 Item of list -6 Sum= 2.0\n",
            "Average: 0.5\n",
            "Max Average: 12.75 \n",
            "\n",
            "\n",
            "i: 1  len(nums)-k+1: 3\n",
            "i: 1 i+k: 5 Item of list 12 Sum= 12.0\n",
            "i: 1 i+k: 5 Item of list -5 Sum= 7.0\n",
            "i: 1 i+k: 5 Item of list -6 Sum= 1.0\n",
            "i: 1 i+k: 5 Item of list 50 Sum= 51.0\n",
            "Average: 12.75\n",
            "Max Average: 12.75 \n",
            "\n",
            "\n",
            "i: 2  len(nums)-k+1: 3\n",
            "i: 2 i+k: 6 Item of list -5 Sum= -5.0\n",
            "i: 2 i+k: 6 Item of list -6 Sum= -11.0\n",
            "i: 2 i+k: 6 Item of list 50 Sum= 39.0\n",
            "i: 2 i+k: 6 Item of list 3 Sum= 42.0\n",
            "Average: 10.5\n",
            "Max Average: 12.75 \n",
            "\n",
            "\n"
          ]
        }
      ]
    },
    {
      "cell_type": "code",
      "source": [
        ""
      ],
      "metadata": {
        "id": "1v5bKqS648eS"
      },
      "execution_count": 54,
      "outputs": []
    }
  ]
}